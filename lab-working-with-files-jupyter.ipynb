{
 "cells": [
  {
   "cell_type": "markdown",
   "id": "f5c415e5",
   "metadata": {},
   "source": [
    "# Data Science Tools and Ecosystem."
   ]
  },
  {
   "cell_type": "markdown",
   "id": "173ffa9a",
   "metadata": {},
   "source": [
    "# In this notebook, Data Science Tools and Ecosystem are summarized."
   ]
  },
  {
   "cell_type": "markdown",
   "id": "fc96c58b",
   "metadata": {},
   "source": [
    "# Some of the popular languages that Data Scientists use are\n",
    "# 1. Python\n",
    "# 2. R\n",
    "# 3. Sql\n",
    "# 4. Java\n"
   ]
  },
  {
   "cell_type": "markdown",
   "id": "27d47c11",
   "metadata": {},
   "source": [
    "# Some of the commonly used libraries used by Data Scientists include\n",
    "# 1. TensorFlow.\n",
    "# 2. NumPy.\n",
    "# 3. SciPy.\n",
    "# 4. Pandas.\n"
   ]
  },
  {
   "cell_type": "markdown",
   "id": "0e20b96e",
   "metadata": {},
   "source": [
    "# Data Science Tools"
   ]
  },
  {
   "cell_type": "markdown",
   "id": "74610062",
   "metadata": {},
   "source": [
    "# Development environment open source tools used in data science include\n",
    "# 1. Rstudio\n",
    "# 2. Apache Spark\n",
    "# 3. Apache Hadoop"
   ]
  },
  {
   "cell_type": "markdown",
   "id": "b4946cfa",
   "metadata": {},
   "source": [
    "# Below are a few examples of evaluating arithmetic expressions in Python"
   ]
  },
  {
   "cell_type": "markdown",
   "id": "5691dea6",
   "metadata": {},
   "source": [
    "# This a simple arithmetic expression to mutiply then add integers"
   ]
  },
  {
   "cell_type": "code",
   "execution_count": 2,
   "id": "c92a8ba1",
   "metadata": {},
   "outputs": [
    {
     "data": {
      "text/plain": [
       "17"
      ]
     },
     "execution_count": 2,
     "metadata": {},
     "output_type": "execute_result"
    }
   ],
   "source": [
    "(3*4)+5"
   ]
  },
  {
   "cell_type": "markdown",
   "id": "19e896f9",
   "metadata": {},
   "source": [
    "# This will convert 200 minutes to hours by diving by 60"
   ]
  },
  {
   "cell_type": "code",
   "execution_count": 3,
   "id": "0d893978",
   "metadata": {},
   "outputs": [
    {
     "data": {
      "text/plain": [
       "3.3333333333333335"
      ]
     },
     "execution_count": 3,
     "metadata": {},
     "output_type": "execute_result"
    }
   ],
   "source": [
    "200/60"
   ]
  },
  {
   "cell_type": "markdown",
   "id": "b05e0196",
   "metadata": {},
   "source": [
    "# some of the key objectives from the course "
   ]
  },
  {
   "cell_type": "markdown",
   "id": "ba7a4c07",
   "metadata": {},
   "source": [
    "**-Addition in Python.**\n"
   ]
  },
  {
   "cell_type": "markdown",
   "id": "2cf7a7f5",
   "metadata": {},
   "source": [
    "**-Division in python.**\n"
   ]
  },
  {
   "cell_type": "markdown",
   "id": "a80f0b26",
   "metadata": {},
   "source": [
    "**-Commonly used libraries.**"
   ]
  },
  {
   "cell_type": "markdown",
   "id": "5723029c",
   "metadata": {},
   "source": [
    "# Author"
   ]
  },
  {
   "cell_type": "markdown",
   "id": "aa379c06",
   "metadata": {},
   "source": [
    "Njoka Nyamu"
   ]
  },
  {
   "cell_type": "code",
   "execution_count": null,
   "id": "7bf3caaf",
   "metadata": {},
   "outputs": [],
   "source": []
  }
 ],
 "metadata": {
  "kernelspec": {
   "display_name": "Python 3 (ipykernel)",
   "language": "python",
   "name": "python3"
  },
  "language_info": {
   "codemirror_mode": {
    "name": "ipython",
    "version": 3
   },
   "file_extension": ".py",
   "mimetype": "text/x-python",
   "name": "python",
   "nbconvert_exporter": "python",
   "pygments_lexer": "ipython3",
   "version": "3.11.3"
  }
 },
 "nbformat": 4,
 "nbformat_minor": 5
}
